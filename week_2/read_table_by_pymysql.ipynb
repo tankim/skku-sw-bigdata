{
 "cells": [
  {
   "cell_type": "code",
   "execution_count": 10,
   "id": "411989dd-b0d8-4406-b856-6733c892e7e0",
   "metadata": {},
   "outputs": [],
   "source": [
    "import pymysql"
   ]
  },
  {
   "cell_type": "code",
   "execution_count": 21,
   "id": "e9dab595-2925-4309-95af-4b59ca510b21",
   "metadata": {},
   "outputs": [
    {
     "name": "stdout",
     "output_type": "stream",
     "text": [
      "(1, 'TWC', '트와이스', 'Seoul', '010-1111-1111', datetime.datetime(2023, 2, 6, 14, 4, 8), datetime.datetime(2023, 2, 6, 14, 4, 8))\n",
      "(2, 'BLK', '블랙핑크', 'Seoul', '010-1111-2222', datetime.datetime(2023, 2, 6, 14, 4, 8), datetime.datetime(2023, 2, 6, 14, 4, 8))\n",
      "(3, 'WMN', '여자친구', 'Daegu', '010-1111-3333', datetime.datetime(2023, 2, 6, 14, 4, 8), datetime.datetime(2023, 2, 6, 14, 4, 8))\n",
      "(4, 'OMY', '오마이걸', 'Daegu', '010-1111-4444', datetime.datetime(2023, 2, 6, 14, 4, 8), datetime.datetime(2023, 2, 6, 14, 4, 8))\n",
      "(5, 'GRL', '소녀시대', 'Daegeon', '010-1111-5555', datetime.datetime(2023, 2, 6, 14, 4, 8), datetime.datetime(2023, 2, 6, 14, 4, 8))\n",
      "(6, 'ITZ', '잇지', 'Daegeon', '010-2222-1111', datetime.datetime(2023, 2, 6, 14, 4, 8), datetime.datetime(2023, 2, 6, 14, 4, 8))\n",
      "(7, 'RED', '레드밸벳', 'Daegeon', '010-2222-1111', datetime.datetime(2023, 2, 6, 14, 4, 8), datetime.datetime(2023, 2, 6, 14, 4, 8))\n",
      "(8, 'APN', '에이핑크', 'Busan', '010-2222-2222', datetime.datetime(2023, 2, 6, 14, 4, 8), datetime.datetime(2023, 2, 6, 14, 4, 8))\n",
      "(9, 'SPC', '우주소녀', 'Junnam', '010-2222-2222', datetime.datetime(2023, 2, 6, 14, 4, 8), datetime.datetime(2023, 2, 6, 14, 4, 8))\n"
     ]
    }
   ],
   "source": [
    "connection = pymysql.connect(host='localhost',\n",
    "                             user='root',\n",
    "                             password='root',\n",
    "                             database='testdb')\n",
    "with connection:\n",
    "    with connection.cursor() as cursor:\n",
    "        # Read a single record\n",
    "        sql = \"SELECT * FROM member\"\n",
    "        cursor.execute(sql)\n",
    "        result = cursor.fetchall()\n",
    "        for r in result:\n",
    "            print(r)"
   ]
  },
  {
   "cell_type": "code",
   "execution_count": 23,
   "id": "f4720e4d-680b-49e3-b2f9-16e55910ac16",
   "metadata": {},
   "outputs": [
    {
     "name": "stdout",
     "output_type": "stream",
     "text": [
      "1\n",
      "TWC\n",
      "트와이스\n",
      "Seoul\n",
      "010-1111-1111\n",
      "2023-02-06 14:04:08\n",
      "2023-02-06 14:04:08\n"
     ]
    }
   ],
   "source": [
    "connection = pymysql.connect(host='localhost',\n",
    "                             user='root',\n",
    "                             password='root',\n",
    "                             database='testdb')\n",
    "with connection:\n",
    "    with connection.cursor() as cursor:\n",
    "        # Read a single record\n",
    "        sql = \"SELECT * FROM member WHERE `address`=%s\"\n",
    "        cursor.execute(sql, 'Seoul')\n",
    "        result = cursor.fetchone()\n",
    "        for r in result:\n",
    "            print(r)"
   ]
  },
  {
   "cell_type": "code",
   "execution_count": null,
   "id": "fc59b4c5-cbf0-45d8-9350-1c9a0e8b4b45",
   "metadata": {},
   "outputs": [],
   "source": []
  }
 ],
 "metadata": {
  "kernelspec": {
   "display_name": "Python 3 (ipykernel)",
   "language": "python",
   "name": "python3"
  },
  "language_info": {
   "codemirror_mode": {
    "name": "ipython",
    "version": 3
   },
   "file_extension": ".py",
   "mimetype": "text/x-python",
   "name": "python",
   "nbconvert_exporter": "python",
   "pygments_lexer": "ipython3",
   "version": "3.12.0"
  }
 },
 "nbformat": 4,
 "nbformat_minor": 5
}
