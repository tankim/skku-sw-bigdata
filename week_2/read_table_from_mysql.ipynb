{
 "cells": [
  {
   "cell_type": "code",
   "execution_count": 1,
   "id": "aa5417c3-2a53-41ef-9a6c-8cc7a7b4e5fe",
   "metadata": {},
   "outputs": [],
   "source": [
    "from pyspark.sql import SparkSession"
   ]
  },
  {
   "cell_type": "code",
   "execution_count": 2,
   "id": "ec6c2a1d-69ce-436f-9016-a7193f3c525e",
   "metadata": {},
   "outputs": [
    {
     "name": "stderr",
     "output_type": "stream",
     "text": [
      "Setting default log level to \"WARN\".\n",
      "To adjust logging level use sc.setLogLevel(newLevel). For SparkR, use setLogLevel(newLevel).\n",
      "24/07/21 17:54:13 WARN NativeCodeLoader: Unable to load native-hadoop library for your platform... using builtin-java classes where applicable\n",
      "24/07/21 17:54:13 WARN Utils: Service 'SparkUI' could not bind on port 4040. Attempting port 4041.\n"
     ]
    }
   ],
   "source": [
    "spark = SparkSession.builder \\\n",
    ".getOrCreate()"
   ]
  },
  {
   "cell_type": "code",
   "execution_count": 6,
   "id": "b2b6bf30-2d38-4645-8752-27d73d0b5be3",
   "metadata": {},
   "outputs": [],
   "source": [
    "df = spark.read.format(\"jdbc\").option(\"url\", f\"jdbc:mysql://localhost\") \\\n",
    ".options(driver=\"com.mysql.cj.jdbc.Driver\",\n",
    "         dbtable=f\"testdb.member\",\n",
    "         user=\"root\",\n",
    "         password=\"root\") \\\n",
    ".load()"
   ]
  },
  {
   "cell_type": "code",
   "execution_count": 7,
   "id": "951776d7-9586-42ee-adfc-0f9745470b85",
   "metadata": {},
   "outputs": [
    {
     "name": "stdout",
     "output_type": "stream",
     "text": [
      "root\n",
      " |-- id: long (nullable = true)\n",
      " |-- member_id: string (nullable = true)\n",
      " |-- name: string (nullable = true)\n",
      " |-- address: string (nullable = true)\n",
      " |-- phone_number: string (nullable = true)\n",
      " |-- create_date: timestamp (nullable = true)\n",
      " |-- update_date: timestamp (nullable = true)\n",
      "\n"
     ]
    }
   ],
   "source": [
    "df.printSchema()"
   ]
  },
  {
   "cell_type": "code",
   "execution_count": 8,
   "id": "f16e253c-681b-4643-b82a-ad0a78fe97a2",
   "metadata": {},
   "outputs": [
    {
     "name": "stdout",
     "output_type": "stream",
     "text": [
      "+---+---------+--------+-------+-------------+-------------------+-------------------+\n",
      "|id |member_id|name    |address|phone_number |create_date        |update_date        |\n",
      "+---+---------+--------+-------+-------------+-------------------+-------------------+\n",
      "|1  |TWC      |트와이스|Seoul  |010-1111-1111|2023-02-06 14:04:08|2023-02-06 14:04:08|\n",
      "|2  |BLK      |블랙핑크|Seoul  |010-1111-2222|2023-02-06 14:04:08|2023-02-06 14:04:08|\n",
      "|3  |WMN      |여자친구|Daegu  |010-1111-3333|2023-02-06 14:04:08|2023-02-06 14:04:08|\n",
      "|4  |OMY      |오마이걸|Daegu  |010-1111-4444|2023-02-06 14:04:08|2023-02-06 14:04:08|\n",
      "|5  |GRL      |소녀시대|Daegeon|010-1111-5555|2023-02-06 14:04:08|2023-02-06 14:04:08|\n",
      "|6  |ITZ      |잇지    |Daegeon|010-2222-1111|2023-02-06 14:04:08|2023-02-06 14:04:08|\n",
      "|7  |RED      |레드밸벳|Daegeon|010-2222-1111|2023-02-06 14:04:08|2023-02-06 14:04:08|\n",
      "|8  |APN      |에이핑크|Busan  |010-2222-2222|2023-02-06 14:04:08|2023-02-06 14:04:08|\n",
      "|9  |SPC      |우주소녀|Junnam |010-2222-2222|2023-02-06 14:04:08|2023-02-06 14:04:08|\n",
      "+---+---------+--------+-------+-------------+-------------------+-------------------+\n",
      "\n"
     ]
    }
   ],
   "source": [
    "df.show(truncate=False)"
   ]
  },
  {
   "cell_type": "code",
   "execution_count": null,
   "id": "05a2eaf5-d2a9-49e3-8d23-6c790e7a93d4",
   "metadata": {},
   "outputs": [],
   "source": []
  }
 ],
 "metadata": {
  "kernelspec": {
   "display_name": "Python 3 (ipykernel)",
   "language": "python",
   "name": "python3"
  },
  "language_info": {
   "codemirror_mode": {
    "name": "ipython",
    "version": 3
   },
   "file_extension": ".py",
   "mimetype": "text/x-python",
   "name": "python",
   "nbconvert_exporter": "python",
   "pygments_lexer": "ipython3",
   "version": "3.12.0"
  }
 },
 "nbformat": 4,
 "nbformat_minor": 5
}
