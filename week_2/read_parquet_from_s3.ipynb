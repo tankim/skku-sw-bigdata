{
 "cells": [
  {
   "cell_type": "code",
   "execution_count": 22,
   "id": "ca5d1051-8a5d-41df-87ae-b62ad0782dfc",
   "metadata": {},
   "outputs": [],
   "source": [
    "from pyspark.sql import SparkSession\n",
    "from pyspark.sql.functions import *"
   ]
  },
  {
   "cell_type": "code",
   "execution_count": 3,
   "id": "cbcf329a-fc40-4501-b19c-c6ed8cd61a9a",
   "metadata": {},
   "outputs": [
    {
     "name": "stderr",
     "output_type": "stream",
     "text": [
      "Setting default log level to \"WARN\".\n",
      "To adjust logging level use sc.setLogLevel(newLevel). For SparkR, use setLogLevel(newLevel).\n",
      "24/07/21 17:47:22 WARN NativeCodeLoader: Unable to load native-hadoop library for your platform... using builtin-java classes where applicable\n"
     ]
    }
   ],
   "source": [
    "spark = SparkSession.builder \\\n",
    ".config(\"spark.hadoop.fs.s3a.access.key\", os.environ[\"AWS_ACCESS_KEY\"]) \\\n",
    ".config(\"spark.hadoop.fs.s3a.secret.key\", os.environ[\"AWS_SECRET_KEY\"]) \\\n",
    ".getOrCreate()"
   ]
  },
  {
   "cell_type": "code",
   "execution_count": 4,
   "id": "d0df479d-d237-44b2-a29f-bfd806bd7256",
   "metadata": {},
   "outputs": [
    {
     "data": {
      "text/plain": [
       "DataFrame[a: bigint, b: double, c: string, d: date, e: timestamp]"
      ]
     },
     "execution_count": 4,
     "metadata": {},
     "output_type": "execute_result"
    }
   ],
   "source": [
    "from datetime import datetime, date\n",
    "import pandas as pd\n",
    "from pyspark.sql import Row\n",
    "\n",
    "df = spark.createDataFrame([\n",
    "    Row(a=1, b=2., c='string1', d=date(2000, 1, 1), e=datetime(2000, 1, 1, 12, 0)),\n",
    "    Row(a=1, b=2., c='string1', d=date(2000, 1, 1), e=datetime(2000, 1, 1, 12, 0)),\n",
    "    Row(a=2, b=3., c='string2', d=date(2000, 2, 1), e=datetime(2000, 1, 2, 12, 0)),\n",
    "    Row(a=4, b=5., c='string3', d=date(2000, 3, 1), e=datetime(2000, 1, 3, 12, 0))\n",
    "])\n",
    "df"
   ]
  },
  {
   "cell_type": "code",
   "execution_count": 5,
   "id": "cfad0dec-ff87-41e3-ad3e-cbb75af29a59",
   "metadata": {},
   "outputs": [
    {
     "name": "stderr",
     "output_type": "stream",
     "text": [
      "                                                                                \r"
     ]
    },
    {
     "name": "stdout",
     "output_type": "stream",
     "text": [
      "+---+---+-------+----------+-------------------+\n",
      "|a  |b  |c      |d         |e                  |\n",
      "+---+---+-------+----------+-------------------+\n",
      "|1  |2.0|string1|2000-01-01|2000-01-01 12:00:00|\n",
      "|1  |2.0|string1|2000-01-01|2000-01-01 12:00:00|\n",
      "|2  |3.0|string2|2000-02-01|2000-01-02 12:00:00|\n",
      "|4  |5.0|string3|2000-03-01|2000-01-03 12:00:00|\n",
      "+---+---+-------+----------+-------------------+\n",
      "\n"
     ]
    }
   ],
   "source": [
    "df.show(truncate=False)"
   ]
  },
  {
   "cell_type": "code",
   "execution_count": 6,
   "id": "5127e5f3-5f4b-4b16-986c-5d3116fd1a48",
   "metadata": {},
   "outputs": [
    {
     "name": "stdout",
     "output_type": "stream",
     "text": [
      "+---+---+-------+----------+-------------------+\n",
      "|  a|  b|      c|         d|                  e|\n",
      "+---+---+-------+----------+-------------------+\n",
      "|  1|2.0|string1|2000-01-01|2000-01-01 12:00:00|\n",
      "|  2|3.0|string2|2000-02-01|2000-01-02 12:00:00|\n",
      "|  4|5.0|string3|2000-03-01|2000-01-03 12:00:00|\n",
      "+---+---+-------+----------+-------------------+\n",
      "\n"
     ]
    }
   ],
   "source": [
    "# df.groupBy('a').count().show(truncate=False)\n",
    "df.distinct().show()"
   ]
  },
  {
   "cell_type": "code",
   "execution_count": 7,
   "id": "da0157f5-b1f2-458d-ba89-735aca64f1a0",
   "metadata": {},
   "outputs": [
    {
     "name": "stdout",
     "output_type": "stream",
     "text": [
      "+---+---+-------+----------+-------------------+\n",
      "|  a|  b|      c|         d|                  e|\n",
      "+---+---+-------+----------+-------------------+\n",
      "|  1|2.0|string1|2000-01-01|2000-01-01 12:00:00|\n",
      "|  1|2.0|string1|2000-01-01|2000-01-01 12:00:00|\n",
      "+---+---+-------+----------+-------------------+\n",
      "\n"
     ]
    }
   ],
   "source": [
    "df.filter(df.a==1).show()"
   ]
  },
  {
   "cell_type": "code",
   "execution_count": 8,
   "id": "8c28b6d8-2fe9-4ed8-997b-7d3b4a1cfcb8",
   "metadata": {},
   "outputs": [],
   "source": [
    "p_df = spark.read.parquet(\"/Users/morgan/Downloads/*.parquet\")"
   ]
  },
  {
   "cell_type": "code",
   "execution_count": 9,
   "id": "0676420e-8ce7-4701-a760-7697c2e880b3",
   "metadata": {},
   "outputs": [
    {
     "name": "stdout",
     "output_type": "stream",
     "text": [
      "root\n",
      " |-- VendorID: integer (nullable = true)\n",
      " |-- tpep_pickup_datetime: timestamp_ntz (nullable = true)\n",
      " |-- tpep_dropoff_datetime: timestamp_ntz (nullable = true)\n",
      " |-- passenger_count: long (nullable = true)\n",
      " |-- trip_distance: double (nullable = true)\n",
      " |-- RatecodeID: long (nullable = true)\n",
      " |-- store_and_fwd_flag: string (nullable = true)\n",
      " |-- PULocationID: integer (nullable = true)\n",
      " |-- DOLocationID: integer (nullable = true)\n",
      " |-- payment_type: long (nullable = true)\n",
      " |-- fare_amount: double (nullable = true)\n",
      " |-- extra: double (nullable = true)\n",
      " |-- mta_tax: double (nullable = true)\n",
      " |-- tip_amount: double (nullable = true)\n",
      " |-- tolls_amount: double (nullable = true)\n",
      " |-- improvement_surcharge: double (nullable = true)\n",
      " |-- total_amount: double (nullable = true)\n",
      " |-- congestion_surcharge: double (nullable = true)\n",
      " |-- Airport_fee: double (nullable = true)\n",
      "\n"
     ]
    }
   ],
   "source": [
    "p_df.printSchema()"
   ]
  },
  {
   "cell_type": "code",
   "execution_count": 12,
   "id": "e03186cc-7a83-4137-bec7-a0b7208e0b8f",
   "metadata": {},
   "outputs": [
    {
     "name": "stderr",
     "output_type": "stream",
     "text": [
      "24/07/21 17:47:27 WARN MetricsConfig: Cannot locate configuration: tried hadoop-metrics2-s3a-file-system.properties,hadoop-metrics2.properties\n"
     ]
    }
   ],
   "source": [
    "p_df = spark.read.parquet(\"s3a://skku-sw-bigdata/data/*.parquet\")"
   ]
  },
  {
   "cell_type": "markdown",
   "id": "51b01c1d-8f10-458e-8df3-4ea3d4132686",
   "metadata": {},
   "source": [
    "# "
   ]
  },
  {
   "cell_type": "code",
   "execution_count": 14,
   "id": "17eff0f9-f881-4e64-9ae7-024bd7a50dc9",
   "metadata": {},
   "outputs": [
    {
     "name": "stdout",
     "output_type": "stream",
     "text": [
      "root\n",
      " |-- VendorID: integer (nullable = true)\n",
      " |-- tpep_pickup_datetime: timestamp_ntz (nullable = true)\n",
      " |-- tpep_dropoff_datetime: timestamp_ntz (nullable = true)\n",
      " |-- passenger_count: long (nullable = true)\n",
      " |-- trip_distance: double (nullable = true)\n",
      " |-- RatecodeID: long (nullable = true)\n",
      " |-- store_and_fwd_flag: string (nullable = true)\n",
      " |-- PULocationID: integer (nullable = true)\n",
      " |-- DOLocationID: integer (nullable = true)\n",
      " |-- payment_type: long (nullable = true)\n",
      " |-- fare_amount: double (nullable = true)\n",
      " |-- extra: double (nullable = true)\n",
      " |-- mta_tax: double (nullable = true)\n",
      " |-- tip_amount: double (nullable = true)\n",
      " |-- tolls_amount: double (nullable = true)\n",
      " |-- improvement_surcharge: double (nullable = true)\n",
      " |-- total_amount: double (nullable = true)\n",
      " |-- congestion_surcharge: double (nullable = true)\n",
      " |-- Airport_fee: double (nullable = true)\n",
      "\n"
     ]
    }
   ],
   "source": [
    "p_df.printSchema()"
   ]
  },
  {
   "cell_type": "code",
   "execution_count": 19,
   "id": "1587b5f9-5a3f-4604-a7a7-6e231b21a263",
   "metadata": {},
   "outputs": [
    {
     "name": "stderr",
     "output_type": "stream",
     "text": [
      "[Stage 16:===========================================>              (3 + 1) / 4]\r"
     ]
    },
    {
     "name": "stdout",
     "output_type": "stream",
     "text": [
      "+--------+--------------------+---------------------+---------------+-------------+----------+------------------+------------+------------+------------+-----------+-----+-------+----------+------------+---------------------+------------+--------------------+-----------+\n",
      "|VendorID|tpep_pickup_datetime|tpep_dropoff_datetime|passenger_count|trip_distance|RatecodeID|store_and_fwd_flag|PULocationID|DOLocationID|payment_type|fare_amount|extra|mta_tax|tip_amount|tolls_amount|improvement_surcharge|total_amount|congestion_surcharge|Airport_fee|\n",
      "+--------+--------------------+---------------------+---------------+-------------+----------+------------------+------------+------------+------------+-----------+-----+-------+----------+------------+---------------------+------------+--------------------+-----------+\n",
      "|       2| 2024-01-01 00:57:55|  2024-01-01 01:17:43|              1|         1.72|         1|                 N|         186|          79|           2|       17.7|  1.0|    0.5|       0.0|         0.0|                  1.0|        22.7|                 2.5|        0.0|\n",
      "|       1| 2024-01-01 00:03:00|  2024-01-01 00:09:36|              1|          1.8|         1|                 N|         140|         236|           1|       10.0|  3.5|    0.5|      3.75|         0.0|                  1.0|       18.75|                 2.5|        0.0|\n",
      "|       1| 2024-01-01 00:17:06|  2024-01-01 00:35:01|              1|          4.7|         1|                 N|         236|          79|           1|       23.3|  3.5|    0.5|       3.0|         0.0|                  1.0|        31.3|                 2.5|        0.0|\n",
      "|       1| 2024-01-01 00:36:38|  2024-01-01 00:44:56|              1|          1.4|         1|                 N|          79|         211|           1|       10.0|  3.5|    0.5|       2.0|         0.0|                  1.0|        17.0|                 2.5|        0.0|\n",
      "|       1| 2024-01-01 00:46:51|  2024-01-01 00:52:57|              1|          0.8|         1|                 N|         211|         148|           1|        7.9|  3.5|    0.5|       3.2|         0.0|                  1.0|        16.1|                 2.5|        0.0|\n",
      "|       1| 2024-01-01 00:54:08|  2024-01-01 01:26:31|              1|          4.7|         1|                 N|         148|         141|           1|       29.6|  3.5|    0.5|       6.9|         0.0|                  1.0|        41.5|                 2.5|        0.0|\n",
      "|       2| 2024-01-01 00:49:44|  2024-01-01 01:15:47|              2|        10.82|         1|                 N|         138|         181|           1|       45.7|  6.0|    0.5|      10.0|         0.0|                  1.0|       64.95|                 0.0|       1.75|\n",
      "|       1| 2024-01-01 00:30:40|  2024-01-01 00:58:40|              0|          3.0|         1|                 N|         246|         231|           2|       25.4|  3.5|    0.5|       0.0|         0.0|                  1.0|        30.4|                 2.5|        0.0|\n",
      "|       2| 2024-01-01 00:26:01|  2024-01-01 00:54:12|              1|         5.44|         1|                 N|         161|         261|           2|       31.0|  1.0|    0.5|       0.0|         0.0|                  1.0|        36.0|                 2.5|        0.0|\n",
      "|       2| 2024-01-01 00:28:08|  2024-01-01 00:29:16|              1|         0.04|         1|                 N|         113|         113|           2|        3.0|  1.0|    0.5|       0.0|         0.0|                  1.0|         8.0|                 2.5|        0.0|\n",
      "|       2| 2024-01-01 00:35:22|  2024-01-01 00:41:41|              2|         0.75|         1|                 N|         107|         137|           1|        7.9|  1.0|    0.5|       0.0|         0.0|                  1.0|        12.9|                 2.5|        0.0|\n",
      "|       1| 2024-01-01 00:25:00|  2024-01-01 00:34:03|              2|          1.2|         1|                 N|         158|         246|           1|       14.9|  3.5|    0.5|      3.95|         0.0|                  1.0|       23.85|                 2.5|        0.0|\n",
      "|       1| 2024-01-01 00:35:16|  2024-01-01 01:11:52|              2|          8.2|         1|                 N|         246|         190|           1|       59.0|  3.5|    0.5|     14.15|        6.94|                  1.0|       85.09|                 2.5|        0.0|\n",
      "|       1| 2024-01-01 00:43:27|  2024-01-01 00:47:11|              2|          0.4|         1|                 N|          68|          90|           1|        5.8|  3.5|    0.5|      1.25|         0.0|                  1.0|       12.05|                 2.5|        0.0|\n",
      "|       1| 2024-01-01 00:51:53|  2024-01-01 00:55:43|              1|          0.8|         1|                 N|          90|          68|           2|        6.5|  3.5|    0.5|       0.0|         0.0|                  1.0|        11.5|                 2.5|        0.0|\n",
      "|       1| 2024-01-01 00:50:09|  2024-01-01 01:03:57|              1|          5.0|         1|                 N|         132|         216|           2|       21.2| 2.75|    0.5|       0.0|         0.0|                  1.0|       25.45|                 0.0|       1.75|\n",
      "|       1| 2024-01-01 00:41:06|  2024-01-01 00:53:42|              1|          1.5|         1|                 N|         164|          79|           1|       12.8|  3.5|    0.5|      4.45|         0.0|                  1.0|       22.25|                 2.5|        0.0|\n",
      "|       2| 2024-01-01 00:52:09|  2024-01-01 00:52:28|              1|          0.0|         1|                 N|         237|         237|           2|        3.0|  1.0|    0.5|       0.0|         0.0|                  1.0|         8.0|                 2.5|        0.0|\n",
      "|       2| 2024-01-01 00:56:38|  2024-01-01 01:03:17|              1|          1.5|         1|                 N|         141|         263|           1|        9.3|  1.0|    0.5|       3.0|         0.0|                  1.0|        17.3|                 2.5|        0.0|\n",
      "|       2| 2024-01-01 00:32:34|  2024-01-01 00:49:33|              1|         2.57|         1|                 N|         161|         263|           1|       17.7|  1.0|    0.5|      10.0|         0.0|                  1.0|        32.7|                 2.5|        0.0|\n",
      "+--------+--------------------+---------------------+---------------+-------------+----------+------------------+------------+------------+------------+-----------+-----+-------+----------+------------+---------------------+------------+--------------------+-----------+\n",
      "only showing top 20 rows\n",
      "\n"
     ]
    },
    {
     "name": "stderr",
     "output_type": "stream",
     "text": [
      "                                                                                \r"
     ]
    }
   ],
   "source": [
    "p_df.show()"
   ]
  },
  {
   "cell_type": "code",
   "execution_count": 23,
   "id": "d1d588fc-69e6-4df4-8eb9-700d4ad433fd",
   "metadata": {},
   "outputs": [
    {
     "name": "stdout",
     "output_type": "stream",
     "text": [
      "+--------+-------+\n",
      "|VendorID|  count|\n",
      "+--------+-------+\n",
      "|       2|2234632|\n",
      "|       1| 729732|\n",
      "|       6|    260|\n",
      "+--------+-------+\n",
      "\n"
     ]
    }
   ],
   "source": [
    "p_df.groupBy(\"VendorID\").count().orderBy(desc(\"count\")).show()"
   ]
  },
  {
   "cell_type": "code",
   "execution_count": 24,
   "id": "b7db718e-7605-4469-8c8d-dd3d2ce3b001",
   "metadata": {},
   "outputs": [
    {
     "name": "stdout",
     "output_type": "stream",
     "text": [
      "+------------------+\n",
      "|avg(trip_distance)|\n",
      "+------------------+\n",
      "|3.6521691789583146|\n",
      "+------------------+\n",
      "\n"
     ]
    }
   ],
   "source": [
    "p_df.select(avg(\"trip_distance\")).show()"
   ]
  },
  {
   "cell_type": "code",
   "execution_count": 25,
   "id": "62a562e5-b7c6-4a39-97f0-53615f442a8b",
   "metadata": {},
   "outputs": [
    {
     "name": "stderr",
     "output_type": "stream",
     "text": [
      "[Stage 26:===================================================>    (11 + 1) / 12]\r"
     ]
    },
    {
     "name": "stdout",
     "output_type": "stream",
     "text": [
      "+-------------------------+-------------------------+\n",
      "|min(tpep_pickup_datetime)|max(tpep_pickup_datetime)|\n",
      "+-------------------------+-------------------------+\n",
      "|      2002-12-31 22:59:39|      2024-02-01 00:01:15|\n",
      "+-------------------------+-------------------------+\n",
      "\n"
     ]
    },
    {
     "name": "stderr",
     "output_type": "stream",
     "text": [
      "                                                                                \r"
     ]
    }
   ],
   "source": [
    "p_df.select(min(\"tpep_pickup_datetime\"), max(\"tpep_pickup_datetime\")).show()"
   ]
  },
  {
   "cell_type": "code",
   "execution_count": 34,
   "id": "16dcb873-354c-4b9d-a4c7-f3b5ac8c1d54",
   "metadata": {},
   "outputs": [
    {
     "name": "stderr",
     "output_type": "stream",
     "text": [
      "[Stage 43:==============================================>         (10 + 2) / 12]\r"
     ]
    },
    {
     "name": "stdout",
     "output_type": "stream",
     "text": [
      "+----------+------+\n",
      "| pickup_dt| count|\n",
      "+----------+------+\n",
      "|2024-01-01| 81013|\n",
      "|2024-01-02| 75519|\n",
      "|2024-01-03| 82427|\n",
      "|2024-01-04|102901|\n",
      "|2024-01-05|103178|\n",
      "|2024-01-06| 97117|\n",
      "|2024-01-07| 67543|\n",
      "|2024-01-08| 80034|\n",
      "|2024-01-09| 93962|\n",
      "|2024-01-10| 95000|\n",
      "|2024-01-11|105010|\n",
      "|2024-01-12|103655|\n",
      "|2024-01-13|104758|\n",
      "|2024-01-14| 94420|\n",
      "|2024-01-15| 77033|\n",
      "|2024-01-16| 93057|\n",
      "|2024-01-17|110365|\n",
      "|2024-01-18|110358|\n",
      "|2024-01-19| 95951|\n",
      "|2024-01-20|108768|\n",
      "|2024-01-21| 84502|\n",
      "|2024-01-22| 85650|\n",
      "|2024-01-23| 99891|\n",
      "|2024-01-24|105120|\n",
      "|2024-01-25|110318|\n",
      "|2024-01-26|105804|\n",
      "|2024-01-27|110515|\n",
      "|2024-01-28| 92837|\n",
      "|2024-01-29| 84547|\n",
      "|2024-01-30|101233|\n",
      "|2024-01-31|102120|\n",
      "+----------+------+\n",
      "only showing top 31 rows\n",
      "\n"
     ]
    },
    {
     "name": "stderr",
     "output_type": "stream",
     "text": [
      "                                                                                \r"
     ]
    }
   ],
   "source": [
    "p_df.filter(p_df.tpep_pickup_datetime >= \"2024-01-01\").withColumn(\"pickup_dt\", split(\"tpep_pickup_datetime\", ' ')[0]).groupBy(\"pickup_dt\").count().orderBy(\"pickup_dt\").show(31)"
   ]
  },
  {
   "cell_type": "code",
   "execution_count": 36,
   "id": "9cf6d1e8-13ff-46f0-b4d5-24a2d70ad217",
   "metadata": {},
   "outputs": [
    {
     "name": "stdout",
     "output_type": "stream",
     "text": [
      "                                  2024\n",
      "    January           February          March             April             \n",
      "Mo  1  8 15 22 29        5 12 19 26        4 11 18 25     1  8 15 22 29   \n",
      "Tu  2  9 16 23 30        6 13 20 27        5 12 19 26     2  9 16 23 30   \n",
      "We  3 10 17 24 31        7 14 21 28        6 13 20 27     3 10 17 24      \n",
      "Th  4 11 18 25        1  8 15 22 29        7 14 21 28     4 11 18 25      \n",
      "Fr  5 12 19 26        2  9 16 23        1  8 15 22 29     5 12 19 26      \n",
      "Sa  6 13 20 27        3 10 17 24        2  9 16 23 30     6 13 20 27      \n",
      "Su  7 14 21 28        4 11 18 25        3 10 17 24 31     7 14 21 28      \n",
      "\n",
      "    May               June              July              August            \n",
      "Mo     6 13 20 27        3 10 17 24     1  8 15 22 29        5 12 19 26   \n",
      "Tu     7 14 21 28        4 11 18 25     2  9 16 23 30        6 13 20 27   \n",
      "We  1  8 15 22 29        5 12 19 26     3 10 17 24 31        7 14 21 28   \n",
      "Th  2  9 16 23 30        6 13 20 27     4 11 18 25        1  8 15 22 29   \n",
      "Fr  3 10 17 24 31        7 14 21 28     5 12 19 26        2  9 16 23 30   \n",
      "Sa  4 11 18 25        1  8 15 22 29     6 13 20 27        3 10 17 24 31   \n",
      "Su  5 12 19 26        2  9 16 23 30     7 14 21 28        4 11 18 25      \n",
      "\n",
      "    September         October           November          December          \n",
      "Mo     2  9 16 23 30     7 14 21 28        4 11 18 25        2  9 16 23 30\n",
      "Tu     3 10 17 24     1  8 15 22 29        5 12 19 26        3 10 17 24 31\n",
      "We     4 11 18 25     2  9 16 23 30        6 13 20 27        4 11 18 25   \n",
      "Th     5 12 19 26     3 10 17 24 31        7 14 21 28        5 12 19 26   \n",
      "Fr     6 13 20 27     4 11 18 25        1  8 15 22 29        6 13 20 27   \n",
      "Sa     7 14 21 28     5 12 19 26        2  9 16 23 30        7 14 21 28   \n",
      "Su  1  8 15 22 29     6 13 20 27        3 10 17 24        1  8 15 22 29   \n"
     ]
    }
   ],
   "source": [
    "%%bash\n",
    "ncal 2024"
   ]
  },
  {
   "cell_type": "code",
   "execution_count": null,
   "id": "fbf868b4-d6fb-4efc-a039-9f30a90ee7d3",
   "metadata": {},
   "outputs": [],
   "source": []
  }
 ],
 "metadata": {
  "kernelspec": {
   "display_name": "Python 3 (ipykernel)",
   "language": "python",
   "name": "python3"
  },
  "language_info": {
   "codemirror_mode": {
    "name": "ipython",
    "version": 3
   },
   "file_extension": ".py",
   "mimetype": "text/x-python",
   "name": "python",
   "nbconvert_exporter": "python",
   "pygments_lexer": "ipython3",
   "version": "3.12.0"
  }
 },
 "nbformat": 4,
 "nbformat_minor": 5
}
